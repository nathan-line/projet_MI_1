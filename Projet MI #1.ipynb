{
 "cells": [
  {
   "cell_type": "markdown",
   "metadata": {},
   "source": [
    "# __Projet Maths-Info #1 : Lignes de niveau__"
   ]
  },
  {
   "cell_type": "markdown",
   "metadata": {},
   "source": [
    "Binôme: Julien LAVAL et Nathan LINÉ."
   ]
  },
  {
   "cell_type": "markdown",
   "metadata": {},
   "source": [
    "Ce notebook développe un programme Python pour le calcul de lignes de niveau d'une fonction $f : \\mathbb{R}^2 \\to \\mathbb{R}$, qui est supposée $\\mathcal{C}^1$.\n",
    "\n",
    "Tout d'abord, on importe les librairies Python dont on aura besoin :"
   ]
  },
  {
   "cell_type": "code",
   "execution_count": 47,
   "metadata": {},
   "outputs": [],
   "source": [
    "import autograd \n",
    "from autograd import numpy as np\n",
    "import matplotlib.pyplot as plt"
   ]
  },
  {
   "cell_type": "markdown",
   "metadata": {},
   "source": [
    "#### Fonctions de test :\n",
    "\n",
    "Pour tester les différents algorithmes de ce notebook, on définit dès lors deux fonctions test de $\\mathbb{R}^2$ dans $\\mathbb{R}$ :"
   ]
  },
  {
   "cell_type": "code",
   "execution_count": 48,
   "metadata": {},
   "outputs": [],
   "source": [
    "def quad(x,y):\n",
    "    #Fonction quadratique\n",
    "    return x**2+y**2\n",
    "\n",
    "def l(x,y):\n",
    "    # Fonction utilisée pour la démo de la fonction contour de matplotlib\n",
    "    return 2*(np.exp(-x**2 -y**2) - np.exp(-(x-1)**2-(y-1)**2))\n",
    "           "
   ]
  },
  {
   "cell_type": "markdown",
   "metadata": {},
   "source": [
    "### Contour simple :"
   ]
  },
  {
   "cell_type": "markdown",
   "metadata": {},
   "source": [
    "Dans un premier temps, on suppose $f: [0,1]^2 \\to \\mathbb{R}$, et on cherche des lignes de niveau qui ont un point sur l'arête gauche."
   ]
  },
  {
   "cell_type": "markdown",
   "metadata": {},
   "source": [
    "#### **Amorce :**\n",
    "\n",
    "$\\triangleright$ Condition pour avoir un point sur l'arête gauche:  \n",
    "Soit $c \\in \\mathbb{R}$, valeur de la ligne de niveau. \n",
    "\n",
    "$f$ est $\\mathcal{C}^1$, donc séparément continue : $t \\mapsto f(0,t)$ est $\\mathcal{C}^0$.  \n",
    "Ainsi, si $c$ est dans le segment formé par $f(0,0)$ et $f(0,1)$, il existe par TVI $ t \\in [0,1]$ tel que $f(0,t) = c$.  \n",
    "Cette condition se réécrit $(f(0,0) - c)(f(0,1) -c) \\leq 0$, forme plus manipulable en pratique ( car pas besoin de tester d'inégalité entre $f(0,0)$ et $f(0,1)$).\n",
    "\n",
    "$\\underline{Remarque:}$ Cette condition est *suffisante*, mais évidemment pas *nécessaire*. Elle restreint donc trop grandement la classe de fonction traitée."
   ]
  },
  {
   "cell_type": "markdown",
   "metadata": {},
   "source": [
    "\n",
    "$\\triangleright$ Pour plus de lisibilité, on définit $h : [0,1] \\to \\mathbb{R}, \\; t  \\mapsto f(0,t) - c$ : la condition devient $h(0).h(1) \\leq 0$.  \n",
    "On code alors la fonction *find_seed*:"
   ]
  },
  {
   "cell_type": "code",
   "execution_count": 49,
   "metadata": {},
   "outputs": [
    {
     "data": {
      "text/plain": [
       "True"
      ]
     },
     "execution_count": 49,
     "metadata": {},
     "output_type": "execute_result"
    }
   ],
   "source": [
    "def find_seed(f, c=0, eps= 2**(-26)):\n",
    "    # Dichotomie sur la taille de l'intervalle pour trouver le réel en question.\n",
    "    # La taille de l'intervalle étant divisée par 2 à chaque itération de la boucle while, la terminaison est assurée.\n",
    "    def h(t):\n",
    "        return (f(0,t) -c)\n",
    "    if h(0) * h(1) > 0:\n",
    "        return None\n",
    "    i,j = 0,1\n",
    "    while (j-i)>eps:\n",
    "        t = (i+j)/2\n",
    "        if h(i)*h(t)<=0:\n",
    "            j = t\n",
    "        else:\n",
    "            i = t\n",
    "    return i\n",
    "\n",
    "\n",
    "# Vérification : \n",
    "# c = 1/4, avec la fonction quad, la valeur théorique est t = 1/2.\n",
    "\n",
    "find_seed(quad, c = 1/4)\n",
    "abs(find_seed(quad, c = 1/4)-1/2)<=2**(-26) "
   ]
  },
  {
   "cell_type": "markdown",
   "metadata": {},
   "source": [
    "#### Propagation :"
   ]
  },
  {
   "cell_type": "markdown",
   "metadata": {},
   "source": [
    "**Méthode #1: Gradient**\n",
    "\n",
    "Pour une fonction $f : \\mathbb{R}^2 \\to \\mathbb{R}$ différentiable, la relation $df = \\vec{\\text{grad}}(f) \\cdot \\vec{dl}$ implique que le gradient de $f$ est perpendiculaire aux lignes de niveau.  \n",
    "On peut donc procéder ainsi :\n",
    "* On trouve un point de la ligne de niveau sur l'arête gauche avec *find_seed*.\n",
    "* On calcule ensuite son gradient, puis la droite perpendiculaire à ce gradient passant par ce point : elle approxime localement la ligne de niveau.\n",
    "* Avec un pas suffisament faible, on suit cette ligne pour trouver le prochain point, puis on recommence."
   ]
  },
  {
   "cell_type": "markdown",
   "metadata": {},
   "source": [
    "$\\diamond$ Problèmes :\n",
    "* Le pas doit être suffisament faible pour que l'approximation soit légitime.\n",
    "* En suivant la droite, il existe deux directions possibles : il faut *faire un choix*, et éviter de revenir sur ses pas / de boucler.       "
   ]
  },
  {
   "cell_type": "markdown",
   "metadata": {},
   "source": [
    "$\\diamond$ Hypothèse gradient :\n",
    "  \n",
    "On supposera que l'on applique notre algorithme en des points où le gradient de $f$ est non nul :  \n",
    "en effet, s'il est nul, on ne peut pas tirer d'information de la relation $df = \\vec{grad}(f) \\cdot \\vec{dl}$.  \n",
    "  \n",
    "  \n",
    "En pratique, si le gradient de $f$ n'est nul que ponctuellement en des points de $]0,1[^2$, on peut changer le pas $\\Delta$ pour les éviter.  \n",
    "Cependant, on peut imaginer une ligne de niveau constituée d'extrema de la fonction, sur laquelle le gradient sera alors identiquement nul :  la classe des fonctions traitées est encore restreinte. \n",
    "  \n"
   ]
  },
  {
   "cell_type": "markdown",
   "metadata": {},
   "source": [
    "$\\diamond$ Calculs : \n",
    "  \n",
    "$\\triangleright$ Soit $M_0 = (x_0,y_0)$ point de $\\mathbb{R}^2$, qui est la valeur dont on part.  \n",
    "On note $\\vec{\\text{grad}}(f)(M_0) = \\begin{pmatrix}a\\\\b\\end{pmatrix}$, noté $G$ dans la suite.  \n",
    "Soit $\\mathcal{D}$ la droite perpendiculaire à $G$ et passant par $M_0$.  \n",
    "\n",
    "$\n",
    "\\begin{align}\n",
    "M = (x,y) \\in \\mathcal{D}   & \\Leftrightarrow \\, \\vec{M_0M} \\perp G \\\\\n",
    "      \\quad    & \\Leftrightarrow \\, \\begin{pmatrix}x-x_0 \\\\ y - y_0 \\end{pmatrix} \\cdot \\begin{pmatrix}a\\\\b\\end{pmatrix}  = 0\\\\ \n",
    "       \\quad   & \\Leftrightarrow \\, a\\,(x-x_0) + b\\,(y-y_0) =0\\\\\n",
    "\\end{align}  \n",
    "$\n",
    "  \n",
    "$\\triangleright$ On impose également un pas $\\Delta$ entre les points, on a donc le système :  \n",
    "\n",
    "$\n",
    "\\begin{array}{rl}\n",
    "a\\,(x-x_0) + b\\,(y-y_0) =0 & (1) \\\\\n",
    "(x-x_0)^2 + (y-y_0)^2 = \\Delta^2 & (2)\\\\\n",
    "\\end{array}\n",
    "$\n",
    "  \n",
    "\n",
    "$\\bullet \\, \\underline{b = 0} : \\, a \\neq 0$ (par hypothèse $(a,b) \\neq (0,0)$), et alors $(x,y) = (x_0, \\,  y_0 \\pm  \\Delta) \\quad \\tiny{(\\Delta \\text{ positif})}$\n",
    "\n",
    "$\\bullet \\, \\underline{b \\neq 0} : \\, (2): \\, (x-x_0)^2 (1+ (\\dfrac{a}{b})^2) = \\Delta^2$.  \n",
    "$ \\Rightarrow (x,y) = \\left (x_0 \\pm \\dfrac{\\Delta}{\\sqrt{1+ (\\frac{a}{b})^2}}, y_0 \\mp \\frac{a}{b} \\dfrac{\\Delta}{\\sqrt{1+(\\frac{a}{b})^2}} \\right ) \\quad \\tiny{(\\text{le } \\pm \\text{ et } \\mp \\text{ signifient que si l'on prend plus pour x, on prend moins pour y})}$.  \n",
    "  \n",
    "On se retrouve bien, comme prévu, avec deux couples solutions, donc deux directions possibles sur la droite."
   ]
  },
  {
   "cell_type": "markdown",
   "metadata": {},
   "source": [
    "$\\diamond$ Choix du point :\n",
    "\n",
    "La question du choix du point n'est pas simple. Une première idée était de prendre toujours le même couple solution parmi les deux, mais le risque était de boucler et que l'algorithme ne finisse pas.  \n",
    "\n",
    "La solution que nous avons envisagée est de prendre, pour une itération de l'algorithme en un point $M_0$, le point le plus éloigné du point précédant $M_0$, afin de ne pas revenir vers les mêmes points.  Cela permet de s'assurer que l'on avance dans la ligne de niveau, et semble marcher pour les fonctions testées.\n",
    "  \n",
    "En pratique, cette méthode de choix permet à la fonction finale *contour* avec la méthode du gradient de terminer et de donner une solution, alors qu'un choix du type 'toujours le même couple solution' donne un algorithme qui ne termine pas, donc boucle probablement.\n"
   ]
  },
  {
   "cell_type": "markdown",
   "metadata": {},
   "source": [
    "![Schéma de la méthode de choix](img/1.png)"
   ]
  },
  {
   "cell_type": "markdown",
   "metadata": {},
   "source": [
    "  "
   ]
  },
  {
   "cell_type": "markdown",
   "metadata": {},
   "source": [
    "On obtient l'algorithme :"
   ]
  },
  {
   "cell_type": "code",
   "execution_count": 50,
   "metadata": {
    "scrolled": true
   },
   "outputs": [
    {
     "data": {
      "image/png": "[encoded data removed]",
      "text/plain": [
       "<matplotlib.figure.Figure at 0x2752eeb6128>"
      ]
     },
     "metadata": {
      "needs_background": "light"
     },
     "output_type": "display_data"
    }
   ],
   "source": [
    "# fonction gradient : \n",
    "def grad(f,x,y):\n",
    "    g = autograd.grad\n",
    "    return np.r_[g(f,0)(x,y),g(f,1)(x,y)]\n",
    "\n",
    "# Distance au carré pour comparer\n",
    "def d(x,y,z,t):\n",
    "    return (x-z)**2 + (y-t)**2\n",
    "\n",
    "def simple_contour(f, c=0.0, delta = 0.01):\n",
    "    x,y = [],[]\n",
    "    if find_seed(f,c) != None:\n",
    "        t = find_seed(f,c)\n",
    "        x.append(0.0)\n",
    "        y.append(t)\n",
    "        [a,b] = grad(f,0.0,t)\n",
    "        while (0 <= x[-1] <= 1) and (0 <= y[-1] <= 1):\n",
    "            # On teste pour rester dans le carré\n",
    "            x_0, y_0 = x[-1], y[-1]\n",
    "            #On implémente exactement le calcul précédent, avec le choix du point.\n",
    "            if b !=0:\n",
    "                if len(x)>=2:\n",
    "                    # Choix du point parmi les deux : on prend le point le plus éloigné du point précédent le point à partir\n",
    "                    #duquel on calcule la tangeante.\n",
    "                    xp, yp = x[-2],y[-2]\n",
    "                    x1,x2 = x_0 + delta/np.sqrt((1 + (a/b)**2)), x_0 - delta/np.sqrt((1 + (a/b)**2))\n",
    "                    y1,y2 = -a/b*(x1 - x_0) + y_0, -a/b*(x2 - x_0) + y_0\n",
    "                    if d(x1,y1,xp,yp) >= d(x2,y2,xp,yp):\n",
    "                        # test du point le plus proche\n",
    "                        x.append(x1)\n",
    "                        y.append(y1)\n",
    "                    else:\n",
    "                        x.append(x2)\n",
    "                        y.append(y2)\n",
    "                else:\n",
    "                    x.append(x_0 + delta/np.sqrt((1 + (a/b)**2)))\n",
    "                    y.append(-a/b*(x[-1] - x_0) + y_0)\n",
    "            else:\n",
    "                x.append(x_0)\n",
    "                y.append(y_0 + delta)\n",
    "            [a,b] = grad(f,x[-1],y[-1])\n",
    "        return x,y\n",
    "    return [],[]\n",
    "\n",
    "# Test sur la fonction quadratique, sur [0,1]².\n",
    "for i in range(5):\n",
    "    x_i,y_i = simple_contour(quad, (1/2)**i)\n",
    "    plt.plot(x_i,y_i, label = f\"c = {(1/2)**i}\")\n",
    "plt.xlim(0,1)\n",
    "plt.ylim(0,1)\n",
    "plt.xlabel('x')\n",
    "plt.ylabel('y')\n",
    "plt.legend()\n",
    "plt.show()"
   ]
  },
  {
   "cell_type": "markdown",
   "metadata": {},
   "source": [
    "  "
   ]
  },
  {
   "cell_type": "markdown",
   "metadata": {},
   "source": [
    "$\\diamond$ Remarque : Théorème des fonctions implicites  \n",
    "  \n",
    "Avec $f: [0,1]^2 \\to \\mathbb{R} \\; \\mathcal{C}^1$, et $(x_0,y_0)$ point de la ligne de niveau duquel on part, on note encore $\\vec{grad}(f)(x_0,y_0) = (a,b)$.  \n",
    "La recherche de ligne de niveau $f(x,y) = c$, $c \\in \\mathbb{R}$, est équivalente à une recherche de zéros en translatant $f$ de $c$ : on peut supposer $c = 0$.  \n",
    "  \n",
    "  \n",
    "Selon le théorème des fonctions implicites,  \n",
    "avec $f(x_0,y_0) = 0$, et un voisinage de $(x_0,y_0)$ sur lequel $\\partial_yf$ est inversible,   \n",
    "$ \\exists \\, \\psi \\; \\mathcal{C}^1$ telle que $ f(x,y) = 0 \\Leftrightarrow y = \\psi(x)$ sur ce voisinage.  \n",
    "De plus, $\\psi'(x_0) = -(\\partial_yf(x_0,y_0))^{-1} \\partial_xf(x_0,y_0)  \n",
    "             = -\\dfrac{a}{b}$.\n",
    "\n",
    "Ainsi, on peut écrire localement, pour $(x,y)$ sur la ligne de niveau :  \n",
    "$y = \\psi(x) \\simeq \\psi'(x_0) (x-x_0) + \\psi(x_0)$      \n",
    "$y = - \\dfrac{a}{b} (x-x_0) + y_0.$  \n",
    "On retrouve l'équation $a(x-x_0) + b(y - y_0) = 0$ : la méthode est **équivalente**.\n",
    "  \n"
   ]
  },
  {
   "cell_type": "markdown",
   "metadata": {},
   "source": [
    "**Méthode #2: Dichotomie sur le cercle**"
   ]
  },
  {
   "cell_type": "markdown",
   "metadata": {},
   "source": [
    "On considère toujours une fonction $f : [0,1]^2 \\to \\mathbb{R} \\; \\mathcal{C}^1$, et un pas $\\Delta$ entre les points.  \n",
    "L'algorithme suivant repose sur des dichotomies sur des cercles de rayon $\\Delta$:\n",
    "* On trouve un point de la ligne de niveau sur l'arête gauche, avec *find_seed*.\n",
    "* On trace un cercle de rayon $\\Delta$ autour du point, et on effectue une dichotomie sur le cercle afin de trouver le prochain point. La dichotomie est seulement effectuée sur une moitié du cercle, définie par la direction [voir schéma].\n",
    "* On recommence jusqu'à sortir du cadre $[0,1]^2$."
   ]
  },
  {
   "cell_type": "markdown",
   "metadata": {},
   "source": [
    "![Schéma du processus](img/2.png)\n"
   ]
  },
  {
   "cell_type": "markdown",
   "metadata": {},
   "source": [
    "  "
   ]
  },
  {
   "cell_type": "markdown",
   "metadata": {},
   "source": [
    "*direction* : variable qui stocke la direction (angle) du demi-cercle pour la dichotomie.  \n",
    "*t0* : variable qui stocke la valeur de l'angle obtenue par dichotomie.  \n",
    "En additionnant t0 avec la direction précédente, on obtient la nouvelle direction."
   ]
  },
  {
   "cell_type": "markdown",
   "metadata": {},
   "source": [
    "  "
   ]
  },
  {
   "cell_type": "markdown",
   "metadata": {},
   "source": [
    "Remarque : La restriction de la dichotomie à un demi-cercle seulement, dans la direction opposée à celle formée par le point précédent et celui d'avant, assure que l'on ne revient pas en arrière, sur les mêmes points. "
   ]
  },
  {
   "cell_type": "markdown",
   "metadata": {},
   "source": [
    "\n"
   ]
  },
  {
   "cell_type": "code",
   "execution_count": 51,
   "metadata": {},
   "outputs": [],
   "source": [
    "# Une dichotomie sur une fonction : \n",
    "def dichotomie(f,c,a,b,eps = 2**(-26)):\n",
    "    def h(t):\n",
    "        return(f(t)-c)   \n",
    "    while (b-a) > eps:\n",
    "        k = (a+b)/2\n",
    "        if h(a)*h(k) < 0:\n",
    "            b = k\n",
    "        else:\n",
    "            a = k\n",
    "    return(a)\n",
    "\n",
    "\n",
    "def simple_contour_2(f, c = 0.0, delta = 0.01): \n",
    "    x,y = [],[]\n",
    "    direction = 0\n",
    "    if find_seed(f,c) != None:\n",
    "        t = find_seed(f,c)\n",
    "        x.append(0.0)\n",
    "        y.append(t)\n",
    "        t0 = 0\n",
    "        while (0<=x[-1]<=1) and (0<=y[-1]<=1) and np.pi/2 - t0 >= 2**(-26): \n",
    "        # le dernier test permet de quitter la boucle si y a pas de solution à la dichotomie : la ligne de niveau s'arrête.\n",
    "            x0 = x[-1] \n",
    "            y0 = y[-1]\n",
    "            def h(t):\n",
    "                return(f(x0+delta*np.cos(t+direction),y0+delta*np.sin(t+direction)))\n",
    "            t0 = dichotomie(h,c,-np.pi/2,np.pi/2,2**(-26))\n",
    "            direction += t0\n",
    "            x.append(x0 + delta*np.cos(direction))\n",
    "            y.append(y0 + delta*np.sin(direction))\n",
    "        return x,y\n",
    "    return [],[]"
   ]
  },
  {
   "cell_type": "code",
   "execution_count": 52,
   "metadata": {
    "scrolled": false
   },
   "outputs": [
    {
     "data": {
      "image/png": "[encoded data removed]",
      "text/plain": [
       "<matplotlib.figure.Figure at 0x2752ee068d0>"
      ]
     },
     "metadata": {
      "needs_background": "light"
     },
     "output_type": "display_data"
    }
   ],
   "source": [
    "# Test sur la fonction quadratique, sur [0,1].\n",
    "for i in range(5):\n",
    "    x_i,y_i = simple_contour_2(quad, (1/2)**i)\n",
    "    plt.plot(x_i,y_i, label = f\"c = {(1/2)**i}\")\n",
    "plt.xlim(0,1)\n",
    "plt.ylim(0,1)\n",
    "plt.xlabel('x')\n",
    "plt.ylabel('y')\n",
    "plt.legend()\n",
    "plt.show()"
   ]
  },
  {
   "cell_type": "markdown",
   "metadata": {},
   "source": [
    "Commentaires:  \n",
    "  \n",
    "$\\triangleright$ Cet algorithme ne marche pas pour tout type de fonctions, puisque l'on peut imaginer des fonctions avec des lignes de niveau formant des angles aigus : le point suivant ne sera alors pas dans le demi-cercle inspecté. On peut alors effectuer la dichotomie sur une portion plus grande du cercle - *mais jamais tout le cercle, pour ne pas revenir en arrière* - mais on pourra toujours construire des fonctions qui ne marchent pas, pour une portion donnée.\n",
    "  \n",
    "Cependant, pour une fonction donnée, on peut donc construire une portion de cercle à inspecter, qui marchera. \n",
    "  \n",
    "De plus, on peut aussi ajuster le pas $\\Delta$ et le choisir faible pour gérer ces problèmes."
   ]
  },
  {
   "cell_type": "markdown",
   "metadata": {},
   "source": [
    "$\\triangleright$ Le dernier test de la boucle while permet d'arrêter le tracé si jamais la ligne de niveau s'arrête brusquement. En effet, le code de la fonction dichotomie tel que nous l'avons implémenté ne prévoit pas d'erreur s'il n'y a pas de solution. Cependant, si c'est le cas, alors on aura $h(a).h(k) > 0$ à chaque itération, et alors c'est $a$ qui prendra une valeur se rapprochant de $b$ à chaque étape, jusqu'à ce que $b-a < eps$, $b$ n'ayant jamais été modifié.  \n",
    "\n",
    "Comme on peut prendre $eps$ aussi petit que voulu, on peut alors considérer qu'en pratique, si on a effectivement $a$ modifié à chaque étape, c'est bien parce qu'il n'y a pas de solution, et non que la solution se trouve dans l'intervalle $]b,b+eps[$."
   ]
  },
  {
   "cell_type": "markdown",
   "metadata": {},
   "source": [
    " "
   ]
  },
  {
   "cell_type": "markdown",
   "metadata": {},
   "source": [
    "### Contour complexe :"
   ]
  },
  {
   "cell_type": "markdown",
   "metadata": {},
   "source": [
    "On suppose maintenant que $f$ n'est plus définie sur $[0,1]^2$, mais sur un rectangle borné de $\\mathbb{R}^2$.  \n",
    "On généralise les fonctions précédentes et on divise le domaine en carrés pour les appliquer."
   ]
  },
  {
   "cell_type": "markdown",
   "metadata": {},
   "source": [
    "* Les fonctions de recherche de seed des quatres côtés :"
   ]
  },
  {
   "cell_type": "code",
   "execution_count": 53,
   "metadata": {},
   "outputs": [],
   "source": [
    "def find_seed_gauche(f, c, xmin, ymin, ymax, eps = 2**(-26)):\n",
    "    def h(t):\n",
    "        return(f(xmin,t)-c)\n",
    "    if h(ymin)*h(ymax) > 0:\n",
    "        return None\n",
    "    else:\n",
    "        i,j = ymin,ymax\n",
    "        while (j-i) > eps:\n",
    "            k = (i+j) / 2\n",
    "            if h(k)*h(j) > 0:\n",
    "                j = k\n",
    "            else:\n",
    "                i = k\n",
    "    return i\n",
    "\n",
    "def find_seed_droite(f, c, xmax, ymin, ymax, eps = 2**(-26)):\n",
    "    def h(t):\n",
    "        return(f(xmax,t)-c)\n",
    "    if h(ymin)*h(ymax) > 0:\n",
    "        return None\n",
    "    else:\n",
    "        i,j = ymin,ymax\n",
    "        while (j-i) > eps:\n",
    "            k = (i+j) / 2\n",
    "            if h(k)*h(j) > 0:\n",
    "                j = k\n",
    "            else:\n",
    "                i = k\n",
    "    return i\n",
    "    \n",
    "def find_seed_bas(f, c, xmin, xmax, ymin, eps = 2**(-26)):\n",
    "    def h(t):\n",
    "        return(f(t,ymin)-c)\n",
    "    if h(xmin)*h(xmax) > 0:\n",
    "        return None\n",
    "    else:\n",
    "        i,j = xmin,xmax\n",
    "        while (j-i) > eps:\n",
    "            k = (i+j) / 2\n",
    "            if h(k)*h(j) > 0:\n",
    "                j = k\n",
    "            else:\n",
    "                i = k\n",
    "    return i\n",
    "\n",
    "def find_seed_haut(f, c, xmin, xmax, ymax, eps = 2**(-26)):\n",
    "    def h(t):\n",
    "        return(f(t,ymax)-c)\n",
    "    if h(xmin)*h(xmax) > 0:\n",
    "        return None\n",
    "    else:\n",
    "        i,j = xmin,xmax\n",
    "        while (j-i) > eps:\n",
    "            k = (i+j) / 2\n",
    "            if h(k)*h(j) > 0:\n",
    "                j = k\n",
    "            else:\n",
    "                i = k\n",
    "    return i"
   ]
  },
  {
   "cell_type": "markdown",
   "metadata": {},
   "source": [
    "Remarque : On peut éviter de coder 4 fonctions, en transformant une même fonction pour l'adapter, mais le résultat sera le même."
   ]
  },
  {
   "cell_type": "markdown",
   "metadata": {},
   "source": [
    " "
   ]
  },
  {
   "cell_type": "markdown",
   "metadata": {},
   "source": [
    "**Méthode #1: Gradient**"
   ]
  },
  {
   "cell_type": "markdown",
   "metadata": {},
   "source": [
    "* Une fonction *simple_contour_annexe* adaptée aux nouveaux contours variables, et à la recherche de seed sur 4 côtés : "
   ]
  },
  {
   "cell_type": "code",
   "execution_count": 54,
   "metadata": {},
   "outputs": [],
   "source": [
    "# Distance pour comparer\n",
    "def d(x,y,z,t):\n",
    "    return (x-z)**2 + (y-t)**2\n",
    "\n",
    "\n",
    "def simple_contour_annexe(f, xmin, xmax, ymin, ymax, c, delta):\n",
    "    lx, ly= [], []\n",
    "    x,y = [],[]\n",
    "    # Ici, une disjonction de cas sur le bord, donc 4 blocs assez similaires.\n",
    "    if find_seed_gauche(f, c, xmin, ymin, ymax) != None:\n",
    "        t = find_seed_gauche(f, c, xmin, ymin, ymax)\n",
    "        x.append(xmin)\n",
    "        y.append(t)\n",
    "        [a,b] = grad(f,xmin,t)\n",
    "        while (xmin <= x[-1] <= xmax) and (ymin <= y[-1] <= ymax):\n",
    "            x_0,y_0 = x[-1],y[-1]\n",
    "            if b !=0:\n",
    "                if len(x)>=2:\n",
    "                    xp, yp = x[-2],y[-2]\n",
    "                    x1,x2 = x_0 + delta/np.sqrt((1 + (a/b)**2)), x_0 - delta/np.sqrt((1 + (a/b)**2))\n",
    "                    y1,y2 = -a/b*(x1 - x_0) + y_0, -a/b*(x2 - x_0) + y_0\n",
    "                    if d(x1,y1,xp,yp) >= d(x2,y2,xp,yp):\n",
    "                        x.append(x1)\n",
    "                        y.append(y1)\n",
    "                    else:\n",
    "                        x.append(x2)\n",
    "                        y.append(y2)\n",
    "                else:\n",
    "                    x.append(x_0 + delta/np.sqrt((1 + (a/b)**2)))\n",
    "                    y.append(-a/b*(x[-1] - x_0) + y_0)\n",
    "            else:\n",
    "                x.append(x_0)\n",
    "                y.append(y_0 + delta)\n",
    "            [a,b] = grad(f,x[-1],y[-1])\n",
    "        lx, ly = x, y\n",
    "    x, y = [],[]\n",
    "    if find_seed_droite(f, c, xmax, ymin, ymax) != None:\n",
    "        t = find_seed_droite(f, c, xmax, ymin, ymax)\n",
    "        x.append(xmax)\n",
    "        y.append(t)\n",
    "        [a,b] = grad(f,xmax,t)\n",
    "        while (xmin <= x[-1] <= xmax) and (ymin <= y[-1] <= ymax):\n",
    "            x_0,y_0 = x[-1],y[-1]\n",
    "            if b !=0:\n",
    "                if len(x)>=2:\n",
    "                    xp, yp = x[-2],y[-2]\n",
    "                    x1,x2 = x_0 + delta/np.sqrt((1 + (a/b)**2)), x_0 - delta/np.sqrt((1 + (a/b)**2))\n",
    "                    y1,y2 = -a/b*(x1 - x_0) + y_0, -a/b*(x2 - x_0) + y_0\n",
    "                    if d(x1,y1,xp,yp) >= d(x2,y2,xp,yp):\n",
    "                        x.append(x1)\n",
    "                        y.append(y1)\n",
    "                    else:\n",
    "                        x.append(x2)\n",
    "                        y.append(y2)\n",
    "                else:\n",
    "                    x.append(x_0 + delta/np.sqrt((1 + (a/b)**2)))\n",
    "                    y.append(-a/b*(x[-1] - x_0) + y_0)\n",
    "            else:\n",
    "                x.append(x_0)\n",
    "                y.append(y_0 + delta)\n",
    "            [a,b] = grad(f,x[-1],y[-1])\n",
    "        lx, ly = lx + x, ly + y\n",
    "    x, y = [],[]\n",
    "    if find_seed_bas(f, c, xmin, xmax, ymin) != None:\n",
    "        t = find_seed_bas(f, c, xmin, xmax, ymin)\n",
    "        x.append(t)\n",
    "        y.append(ymin)\n",
    "        [a,b] = grad(f,t,ymin)\n",
    "        while (xmin <= x[-1] <= xmax) and (ymin <= y[-1] <= ymax):\n",
    "            x_0,y_0 = x[-1],y[-1]\n",
    "            if b !=0:\n",
    "                if len(x)>=2:\n",
    "                    xp, yp = x[-2],y[-2]\n",
    "                    x1,x2 = x_0 + delta/np.sqrt((1 + (a/b)**2)), x_0 - delta/np.sqrt((1 + (a/b)**2))\n",
    "                    y1,y2 = -a/b*(x1 - x_0) + y_0, -a/b*(x2 - x_0) + y_0\n",
    "                    if d(x1,y1,xp,yp) >= d(x2,y2,xp,yp):\n",
    "                        x.append(x1)\n",
    "                        y.append(y1)\n",
    "                    else:\n",
    "                        x.append(x2)\n",
    "                        y.append(y2)\n",
    "                else:\n",
    "                    x.append(x_0 + delta/np.sqrt((1 + (a/b)**2)))\n",
    "                    y.append(-a/b*(x[-1] - x_0) + y_0)\n",
    "            else:\n",
    "                x.append(x_0)\n",
    "                y.append(y_0 + delta)\n",
    "            [a,b] = grad(f,x[-1],y[-1])\n",
    "        lx, ly = lx + x, ly + y\n",
    "    x, y = [],[]\n",
    "    if find_seed_haut(f, c, xmin, xmax, ymax) != None:\n",
    "        t = find_seed_haut(f, c, xmin, xmax, ymax)\n",
    "        x.append(t)\n",
    "        y.append(ymax)\n",
    "        [a,b] = grad(f,t,ymax)\n",
    "        while (xmin <= x[-1] <= xmax) and (ymin <= y[-1] <= ymax):\n",
    "            x_0,y_0 = x[-1],y[-1]\n",
    "            if b !=0:\n",
    "                if len(x)>=2:\n",
    "                    xp, yp = x[-2],y[-2]\n",
    "                    x1,x2 = x_0 + delta/np.sqrt((1 + (a/b)**2)), x_0 - delta/np.sqrt((1 + (a/b)**2))\n",
    "                    y1,y2 = -a/b*(x1 - x_0) + y_0, -a/b*(x2 - x_0) + y_0\n",
    "                    if d(x1,y1,xp,yp) >= d(x2,y2,xp,yp):\n",
    "                        x.append(x1)\n",
    "                        y.append(y1)\n",
    "                    else:\n",
    "                        x.append(x2)\n",
    "                        y.append(y2)\n",
    "                else:\n",
    "                    x.append(x_0 + delta/np.sqrt((1 + (a/b)**2)))\n",
    "                    y.append(-a/b*(x[-1] - x_0) + y_0)\n",
    "            else:\n",
    "                x.append(x_0)\n",
    "                y.append(y_0 + delta)\n",
    "            [a,b] = grad(f,x[-1],y[-1])\n",
    "        lx, ly = lx + x, ly + y \n",
    "        \n",
    "    return (lx,ly)"
   ]
  },
  {
   "cell_type": "markdown",
   "metadata": {},
   "source": [
    "* La fonction *contour* finale : "
   ]
  },
  {
   "cell_type": "code",
   "execution_count": 55,
   "metadata": {},
   "outputs": [],
   "source": [
    "def contour(f, xc = [0.0,1.0], yc = [0.0,1.0], c = 0.0, delta = 0.01):\n",
    "    xs, ys = [], []\n",
    "    n, m = len(xc), len(yc)\n",
    "    for i in range(n-1):\n",
    "        for j in range(m-1):\n",
    "            xmin = xc[i]\n",
    "            xmax = xc[i+1]\n",
    "            ymin = yc[j]\n",
    "            ymax = yc[j+1]\n",
    "            lx, ly = simple_contour_annexe(f,xmin,xmax,ymin,ymax,c,delta)\n",
    "            xs.append(lx)\n",
    "            ys.append(ly)\n",
    "    for x,y in zip(xs,ys):\n",
    "        plt.plot(x,y,'.',color='r', markersize=2)"
   ]
  },
  {
   "cell_type": "code",
   "execution_count": 56,
   "metadata": {
    "scrolled": false
   },
   "outputs": [
    {
     "data": {
      "image/png": "[encoded data removed]",
      "text/plain": [
       "<matplotlib.figure.Figure at 0x2752f3adbe0>"
      ]
     },
     "metadata": {
      "needs_background": "light"
     },
     "output_type": "display_data"
    }
   ],
   "source": [
    "# Test avec la fonction l(x,y)\n",
    "\n",
    "xc = [-2.0,-1.75,-1.5,-1.25,-1.0,-0.75,-0.50,-0.25,0.0,0.25,0.5,0.75,1.0,1.25,1.50,1.75,2.0,2.25,2.50,2.75,3.0]\n",
    "yc = [-1.0,-0.75,-0.50,-0.25,0.0,0.25,0.5,0.75,1.0,1.25,1.50,1.75,2.0]\n",
    "\n",
    "contour(l,xc,yc,0.0)\n",
    "contour(l,xc,yc,0.5)\n",
    "contour(l,xc,yc,1.0)\n",
    "contour(l,xc,yc,1.5)  \n",
    "contour(l,xc,yc,-0.5)\n",
    "contour(l,xc,yc,-1.0)\n",
    "contour(l,xc,yc,-1.5)"
   ]
  },
  {
   "cell_type": "markdown",
   "metadata": {},
   "source": [
    "Commentaires:  \n",
    "$\\triangleright$ On observe deux zones où la ligne de niveau n'a pas été tracée, ce qui provient probablement d'un problème ponctuel dans la méthode ou dans le code, que nous n'avons pas réussi à déterminer. Le reste de la figure est conforme à la figure réelle.  \n",
    "$\\triangleright$ La complexité pratique reste assez faible pour une division en $20 \\times 12 = 240$ carrés : de l'ordre de 10 secondes."
   ]
  },
  {
   "cell_type": "markdown",
   "metadata": {},
   "source": [
    "**Méthode #2: Dichotomie sur cercles**\n"
   ]
  },
  {
   "cell_type": "markdown",
   "metadata": {},
   "source": [
    "* A nouveau, une fonction *simple_contour_annexe_2* avec la méthode de la dichotomie sur les cercles."
   ]
  },
  {
   "cell_type": "code",
   "execution_count": 57,
   "metadata": {},
   "outputs": [],
   "source": [
    "def simple_contour_annexe_2(f, xmin, xmax, ymin, ymax, c, delta):\n",
    "    x,y = [],[]\n",
    "    lx,ly = [],[]\n",
    "    direction = 0\n",
    "    # Ici, une disjonction de cas sur le bord, donc 4 blocs assez similaires.\n",
    "    if find_seed_gauche(f, c, xmin, ymin, ymax) != None:\n",
    "        t = find_seed_gauche(f, c, xmin, ymin, ymax)\n",
    "        x.append(xmin)\n",
    "        y.append(t)\n",
    "        t0 = 0\n",
    "        while (xmin <= x[-1] <= xmax) and (ymin <= y[-1] <= ymax) and (np.pi/2 - t0 >= 2**(-26)): \n",
    "            # le dernier test permet de quitter la boucle si y a pas de solution à la dichotomie : la ligne de niveau s'arrête.\n",
    "            x0 = x[-1] \n",
    "            y0 = y[-1]\n",
    "            def h(t):\n",
    "                # fonction f sur le cercle autour de (x0,y0)\n",
    "                return(f(x0+delta*np.cos(t+direction),y0+delta*np.sin(t+direction)))\n",
    "            t0 = dichotomie(h,c,-np.pi/2,np.pi/2,2**(-26))\n",
    "            direction += t0\n",
    "            x.append(x0 + delta*np.cos(direction))\n",
    "            y.append(y0 + delta*np.sin(direction))\n",
    "        lx, ly = x, y\n",
    "    x,y = [],[]\n",
    "    direction = np.pi\n",
    "    if find_seed_droite(f, c, xmax, ymin, ymax) != None:\n",
    "        t = find_seed_droite(f, c, xmax, ymin, ymax)\n",
    "        x.append(xmax)\n",
    "        y.append(t)\n",
    "        t0 = 0\n",
    "        while (xmin <= x[-1] <= xmax) and (ymin <= y[-1] <= ymax) and (np.pi/2 - t0 >= 2**(-26)): \n",
    "            x0 = x[-1]\n",
    "            y0 = y[-1]\n",
    "            def h(t):\n",
    "                return(f(x0+delta*np.cos(t+direction),y0+delta*np.sin(t+direction)))\n",
    "            t0 = dichotomie(h,c,-np.pi/2,np.pi/2,2**(-26))\n",
    "            direction += t0\n",
    "            x.append(x0 + delta*np.cos(direction))\n",
    "            y.append(y0 + delta*np.sin(direction))\n",
    "        lx, ly= lx + x, ly + y\n",
    "    x,y = [],[]\n",
    "    direction = np.pi/2\n",
    "    if find_seed_bas(f, c, xmin, xmax, ymin) != None:\n",
    "        t = find_seed_bas(f, c, xmin, xmax, ymin)\n",
    "        x.append(t)\n",
    "        y.append(ymin)\n",
    "        t0 = 0\n",
    "        while (xmin <= x[-1] <= xmax) and (ymin <= y[-1] <= ymax) and (np.pi/2 - t0 >= 2**(-26)): \n",
    "            x0 = x[-1] \n",
    "            y0 = y[-1]\n",
    "            def h(t):\n",
    "                return(f(x0+delta*np.cos(t+direction),y0+delta*np.sin(t+direction)))\n",
    "            t0 = dichotomie(h,c,-np.pi/2,np.pi/2,2**(-26))\n",
    "            direction += t0\n",
    "            x.append(x0 + delta*np.cos(direction))\n",
    "            y.append(y0 + delta*np.sin(direction))\n",
    "        lx, ly = lx + x, ly + y\n",
    "    x,y = [],[]\n",
    "    direction = -np.pi/2\n",
    "    if find_seed_haut(f, c, xmin, xmax, ymax) != None:\n",
    "        t = find_seed_haut(f, c, xmin, xmax, ymax)\n",
    "        x.append(t)\n",
    "        y.append(ymax)\n",
    "        t0 = 0\n",
    "        while (xmin <= x[-1] <= xmax) and (ymin <= y[-1] <= ymax) and (np.pi/2 - t0 >= 2**(-26)):\n",
    "            x0 = x[-1]\n",
    "            y0 = y[-1]\n",
    "            def h(t):\n",
    "                return(f(x0+delta*np.cos(t+direction),y0+delta*np.sin(t+direction)))\n",
    "            t0 = dichotomie(h,c,-np.pi/2,np.pi/2,2**(-26))\n",
    "            direction += t0\n",
    "            x.append(x0 + delta*np.cos(direction))\n",
    "            y.append(y0 + delta*np.sin(direction))\n",
    "        lx, ly = lx + x, ly + y\n",
    "    return (lx,ly)"
   ]
  },
  {
   "cell_type": "markdown",
   "metadata": {},
   "source": [
    "* La fonction *contour_2* finale :"
   ]
  },
  {
   "cell_type": "code",
   "execution_count": 58,
   "metadata": {},
   "outputs": [],
   "source": [
    "def contour_2(f, xc = [0.0,1.0], yc = [0.0,1.0], c = 0.0, delta = 0.01):\n",
    "    xs, ys = [], []\n",
    "    n, m = len(xc), len(yc)\n",
    "    for i in range(n-1):\n",
    "        for j in range(m-1):\n",
    "            xmin = xc[i]\n",
    "            xmax = xc[i+1]\n",
    "            ymin = yc[j]\n",
    "            ymax = yc[j+1]\n",
    "            lx,ly = simple_contour_annexe_2(f,xmin,xmax,ymin,ymax,c,delta)\n",
    "            xs.append(lx)\n",
    "            ys.append(ly)\n",
    "    for x,y in zip(xs,ys):\n",
    "        plt.plot(x,y, color = 'r')"
   ]
  },
  {
   "cell_type": "code",
   "execution_count": 59,
   "metadata": {
    "scrolled": false
   },
   "outputs": [
    {
     "data": {
      "image/png": "[encoded data removed]",
      "text/plain": [
       "<matplotlib.figure.Figure at 0x2752ed08c50>"
      ]
     },
     "metadata": {
      "needs_background": "light"
     },
     "output_type": "display_data"
    }
   ],
   "source": [
    "# Test avec la fonction l(x,y)\n",
    "\n",
    "xc = [-2.0,-1.75,-1.5,-1.25,-1.0,-0.75,-0.50,-0.25,0.0,0.25,0.5,0.75,1.0,1.25,1.50,1.75,2.0,2.25,2.50,2.75,3.0]\n",
    "yc = [-1.0,-0.75,-0.50,-0.25,0.0,0.25,0.5,0.75,1.0,1.25,1.50,1.75,2.0]\n",
    "\n",
    "contour_2(l,xc,yc,0.0)\n",
    "contour_2(l,xc,yc,0.5)\n",
    "contour_2(l,xc,yc,1.0)\n",
    "contour_2(l,xc,yc,1.5)  \n",
    "contour_2(l,xc,yc,-0.5)\n",
    "contour_2(l,xc,yc,-1.0)\n",
    "contour_2(l,xc,yc,-1.5)"
   ]
  },
  {
   "cell_type": "markdown",
   "metadata": {},
   "source": [
    "Commentaires:    \n",
    "$\\triangleright$ Cette fois-ci, le résultat obtenu est bien celui que l'on recherchait : L'algorithme fonctionne pour cette fonction.  \n",
    "$\\triangleright$ La complexité pratique est proche de celle de la méthode #1, de l'ordre d'une dizaine de secondes, pour une même division en $20 \\times 12 = 240$ carrés.  "
   ]
  },
  {
   "cell_type": "markdown",
   "metadata": {},
   "source": [
    " "
   ]
  },
  {
   "cell_type": "markdown",
   "metadata": {},
   "source": [
    "### Conclusion :"
   ]
  },
  {
   "cell_type": "markdown",
   "metadata": {},
   "source": [
    "  Cette étude nous a permis d'élaborer deux algorithmes de lignes de niveaux, basés sur des principes différents: \n",
    "    \n",
    "    \n",
    "  $\\triangleright$ Méthode du gradient : \n",
    "   - Effective seulement pour les points où le gradient est non nul.  On peut imaginer des fonctions avec une ligne de niveau constituée d'extrema, qui ne pourraît alors être obtenue.\n",
    "   - Donne deux points à chaque itération, il est nécessaire d'effectuer un choix : nous l'avons traité en prenant le point s'éloignant le plus des points précédents.\n",
    "   - Solution pas exacte avec *contour*, ce qui est peut-être causé par une erreur ponctuelle dans le code.\n",
    "  \n",
    "$\\triangleright$ Méthode par dichotomie sur les cercles : \n",
    "   - Problèmes possibles liés à la restriction de la dichotomie à un demi-cercle. Mais pour une fonction donnée, on peut définir une proportion de cercle adéquate, et ainsi développer une fonction qui marche.\n",
    "   - Fournit une solution avec *contour* proche de la théorie et efficace.\n",
    "  \n",
    "Ainsi, la pratique nous pousse à retenir la seconde solution, plus efficace *a priori* (du moins pour les types de fonctions testés)."
   ]
  }
 ],
 "metadata": {
  "kernelspec": {
   "display_name": "Python 3",
   "language": "python",
   "name": "python3"
  },
  "language_info": {
   "codemirror_mode": {
    "name": "ipython",
    "version": 3
   },
   "file_extension": ".py",
   "mimetype": "text/x-python",
   "name": "python",
   "nbconvert_exporter": "python",
   "pygments_lexer": "ipython3",
   "version": "3.6.1"
  }
 },
 "nbformat": 4,
 "nbformat_minor": 2
}

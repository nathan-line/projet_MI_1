{
 "cells": [
  {
   "cell_type": "markdown",
   "metadata": {},
   "source": [
    "# __<center> Projet Maths-info #1 : Lignes de niveau</center>__"
   ]
  },
  {
   "cell_type": "markdown",
   "metadata": {},
   "source": [
    "Binôme: Julien LAVAL et Nathan LINÉ."
   ]
  },
  {
   "cell_type": "markdown",
   "metadata": {},
   "source": [
    "Ce notebook développe un programme Python pour le calcul de ligne de niveau d'une fonction $f : \\mathbb{R}^2 \\to \\mathbb{R}$, qui est $\\mathcal{C}^1$.\n",
    "\n",
    "Tout d'abord, on import les librairies Python dont on aura besoin :"
   ]
  },
  {
   "cell_type": "code",
   "execution_count": 3,
   "metadata": {},
   "outputs": [],
   "source": [
    "import autograd \n",
    "from autograd import numpy as np\n",
    "import matplotlib.pyplot as plt"
   ]
  },
  {
   "cell_type": "markdown",
   "metadata": {},
   "source": [
    "#### Fonctions de test :\n",
    "\n",
    "Pour tester les différents algorithmes de ce notebook, on définit dès lors plusieurs fonctions test de $\\mathbb{R}^2$ dans $\\mathbb{R}$ :"
   ]
  },
  {
   "cell_type": "code",
   "execution_count": 4,
   "metadata": {},
   "outputs": [],
   "source": [
    "def quad(x,y):\n",
    "    #Fonction quadratique\n",
    "    return x**2+y**2\n",
    "\n",
    "def l(x,y):\n",
    "    # Fonction utilisée pour la démo de la fonction contour de matplotlib\n",
    "    return 2*(np.exp(-x**2 -y**2) - np.exp(-(x-1)**2-(y-1)**2))\n",
    "           "
   ]
  },
  {
   "cell_type": "markdown",
   "metadata": {},
   "source": [
    "### Contour simple :"
   ]
  },
  {
   "cell_type": "markdown",
   "metadata": {},
   "source": [
    "Dans un premier temps, on suppose $f: [0,1]^2 \\to \\mathbb{R}$, et on cherche des lignes de niveaux qui ont un point sur l'arrête gauche."
   ]
  },
  {
   "cell_type": "markdown",
   "metadata": {},
   "source": [
    "#### **Amorce :**\n",
    "\n",
    "$\\triangleright$ Condition pour avoir un point sur l'arrête gauche:  \n",
    "Soit $c \\in \\mathbb{R}$.  \n",
    "Si $c \\in [f(0,0), f(0,1)]$, comme $f$ est $\\mathcal{C}^1$, donc a fortiori continue, il existe par TVI $ t \\in [0,1]$ tel que $f(0,t) = c$.  \n",
    "Cette condition se réécrit $(f(0,0) - c)(f(0,1) -c) \\leq 0$, forme plus manipulable en pratique ( car pas besoin de tester d'inégalité entre $f(0,0)$ et $f(0,1)$).\n",
    "\n",
    "$\\underline{Remarque:}$ Cette condition est *suffisante*, mais évidemment pas *nécessaire*. Elle restreint donc trop grandement la classe de fonction traitée, mais suffira ici."
   ]
  },
  {
   "cell_type": "markdown",
   "metadata": {},
   "source": [
    "\n",
    "$\\triangleright$ Pour plus de lisibilité, on définit $h : [0,1] \\to \\mathbb{R}, \\; t  \\mapsto f(0,t) - c$ : la condition devient $h(0).h(1) \\leq 0$.  \n",
    "On code alors la fonction *find_seed*:"
   ]
  },
  {
   "cell_type": "code",
   "execution_count": 13,
   "metadata": {},
   "outputs": [
    {
     "data": {
      "text/plain": [
       "True"
      ]
     },
     "execution_count": 13,
     "metadata": {},
     "output_type": "execute_result"
    }
   ],
   "source": [
    "def find_seed(f, c=0, eps= 2**(-26)):\n",
    "    # Dichotomie sur la taille de l'intervalle pour trouver le réel en question.\n",
    "    #La taille de l'intervalle étant divisé par 2 à chaque tour de la boucle while, la terminaison est assurée.\n",
    "    def h(t):\n",
    "        return (f(0,t) -c)\n",
    "    if h(0) * h(1) > 0:\n",
    "        return None\n",
    "    i,j = 0,1\n",
    "    while (j-i)>eps:\n",
    "        t = (i+j)/2\n",
    "        if h(i)*h(t)<=0:\n",
    "            j = t\n",
    "        else:\n",
    "            i = t\n",
    "    return i\n",
    "\n",
    "\n",
    "#Vérification : \n",
    "#c = 1/4, avec la fonction quad, la valeur théorique est t = 1/2.\n",
    "\n",
    "find_seed(quad, c = 1/4)\n",
    "abs(find_seed(quad, c = 1/4)-1/2)<=2**(-26) "
   ]
  },
  {
   "cell_type": "markdown",
   "metadata": {},
   "source": [
    "#### Propagation :"
   ]
  },
  {
   "cell_type": "markdown",
   "metadata": {},
   "source": [
    "**Méthode #1: Gradient**\n",
    "\n",
    "Pour une fonction $f : \\mathbb{R}^2 \\to \\mathbb{R}$ différentiable, la relation $df = \\vec{\\text{grad}}(f) \\cdot dl$ implique que le gradient de $f$ est perpendiculaire aux lignes de niveaux.  \n",
    "On peut donc procéder ainsi :\n",
    "* On trouve un point de la ligne de niveau avec *find_seed*.\n",
    "* On calcule ensuite son gradient, puis la droite perpendiculaire à ce gradient passant par ce point : elle approxime localement la ligne de niveau.\n",
    "* Avec un pas suffisament faible, on suit cette ligne pour trouver le prochain point, puis on recommence."
   ]
  },
  {
   "cell_type": "markdown",
   "metadata": {},
   "source": [
    "Problèmes : \n",
    "* Le pas doit être suffisament faible pour que l'approximation soit légitime.\n",
    "* En suivant la droite, il existe deux directions possibles : il faut *faire un choix*, et éviter de revenir sur ses pas.       "
   ]
  },
  {
   "cell_type": "markdown",
   "metadata": {},
   "source": [
    "Calculs :  \n",
    "$\\triangleright$ Soit $z_0 = (x_0,y_0)$ point de $\\mathbb{R}^2$, qui est la valeur dont on part.  \n",
    "On note $\\vec{\\text{grad}}(f)(z_0) = \\begin{pmatrix}a\\\\b\\end{pmatrix}$, noté $G$ dans la suite.  \n",
    "Soit $\\mathcal{D}$ la droite perpendiculaire à $G$ et passant par $z_0$.\n",
    "\\begin{array}{rcl}\n",
    "M = (x,y) \\in \\mathcal{D}   & \\Leftrightarrow & \\vec{M_0M} \\perp G \\\\\n",
    "              & \\Leftrightarrow & \\begin{pmatrix}x-x_0 \\\\ y - y_0 \\end{pmatrix} \\cdot \\begin{pmatrix}a\\\\b\\end{pmatrix}  = 0\\\\ \n",
    "              & \\Leftrightarrow & a\\,(x-x_0) + b\\,(y-y_0) =0\\\\\n",
    "\\end{array}  \n",
    "\n",
    "$\\triangleright$ On impose également un pas de $\\Delta$ entre les points, on a donc le système :  \n",
    "\n",
    "\\begin{array}{rl}\n",
    "a\\,(x-x_0) + b\\,(y-y_0) =0 & (1) \\\\\n",
    "(x-x_0)^2 + (y-y_0)^2 = \\Delta^2 & (2) \\\\\n",
    "\\end{array}\n",
    "\n",
    "$\\bullet \\, \\underline{b = 0} : \\, a \\neq$ 0, et alors $(x,y) = (x_0, \\,  y_0 \\pm  \\Delta) \\quad \\tiny{(\\Delta \\text{ positif})}$\n",
    "\n",
    "$\\bullet \\, \\underline{b \\neq 0} : \\, (2): \\, (x-x_0)^2 (1+ (\\dfrac{a}{b})^2) = \\Delta^2$.  \n",
    "$ \\Rightarrow (x,y) = \\left (x_0 \\pm \\dfrac{\\Delta}{\\sqrt{1+ (\\frac{a}{b})^2}}, y_0 \\mp \\frac{a}{b} \\dfrac{\\Delta}{\\sqrt{1+(\\frac{a}{b})^2})} \\right ) \\quad \\tiny{(\\text{le } \\pm \\text{ et } \\mp \\text{ signifie que si l'on prend plus pour x, on prend moins pour y})}$.  \n",
    "  \n",
    "On se retrouve bien, comme prévu, avec deux couples solutions, donc deux directions possibles sur la droite. En choisissant toujours le même sens (par défaut, vers la droite), on obtient la fonction *simple_contour* suivante:"
   ]
  },
  {
   "cell_type": "code",
   "execution_count": 6,
   "metadata": {
    "scrolled": false
   },
   "outputs": [
    {
     "data": {
      "image/png": "[encoded data removed]",
      "text/plain": [
       "<matplotlib.figure.Figure at 0x19147fa9e48>"
      ]
     },
     "metadata": {
      "needs_background": "light"
     },
     "output_type": "display_data"
    }
   ],
   "source": [
    "## Fonction gradient : \n",
    "def grad(f,x,y):\n",
    "    g = autograd.grad\n",
    "    return np.r_[g(f,0)(x,y),g(f,1)(x,y)]\n",
    "\n",
    "def simple_contour(f, c=0.0, delta = 0.01):\n",
    "    x,y = [],[]\n",
    "    if find_seed(f,c) != None:\n",
    "        t = find_seed(f,c)\n",
    "        x.append(0.0)\n",
    "        y.append(t)\n",
    "        [a,b] = grad(f,0.0,t)\n",
    "        while (0<=x[-1]<=1) and (0<=y[-1]<=1):\n",
    "            # On teste pour rester dans le carré.\n",
    "            x_0, y_0 = x[-1], y[-1]\n",
    "            # On implémente exactement le calcul précédent :\n",
    "            if b !=0:\n",
    "                x.append(x_0 + delta/np.sqrt((1 + (a/b)**2)))\n",
    "                y.append(-a/b*(x[-1] - x_0) + y_0)\n",
    "            else:\n",
    "                x.append(x_0)\n",
    "                y.append(y_0 + delta)\n",
    "            [a,b] = grad(f,x[-1],y[-1])\n",
    "        return x,y\n",
    "    return [],[]\n",
    "\n",
    "# Test sur la fonction quadratique, sur [0,1]².\n",
    "for i in range(5):\n",
    "    x_i,y_i = simple_contour(quad, (1/2)**i)\n",
    "    plt.plot(x_i,y_i, label = f\"c = {(1/2)**i}\")\n",
    "plt.xlim(0,1)\n",
    "plt.ylim(0,1)\n",
    "plt.xlabel('x')\n",
    "plt.ylabel('y')\n",
    "plt.legend()\n",
    "plt.show()"
   ]
  },
  {
   "cell_type": "markdown",
   "metadata": {},
   "source": [
    "$\\underline{\\textbf{Remarque : Théorème des fonctions implicites}} :$  \n",
    "Avec $f: [0,1]^2 \\to \\mathbb{R} \\; \\mathcal{C}^1$, on note toujours $\\vec{grad}(f) = (a,b)$.\n",
    "\n",
    "Le théorème des fonctions implicites donne : \n",
    "Sur un voisinage sur lequel $\\partial_yf$ est inversible, $f(x,y) = 0 \\Leftrightarrow y = \\psi(x)$.  \n",
    "et $\\psi'(x) = -(\\partial_yf(x,y))^{-1} \\partial_xf(x,y)  \n",
    "             = -\\dfrac{a}{b}$.\n",
    "\n",
    "Ainsi, on peut localement écrire $y = \\psi(x) \\simeq - \\dfrac{a}{b} (x-x_0) + y_0.$  \n",
    "On retrouve $a(x-x_0) + b(y - y_0) = 0$ : la méthode est $\\underline{équivalente}$. \n",
    "  \n"
   ]
  },
  {
   "cell_type": "markdown",
   "metadata": {},
   "source": [
    "**Méthode #2: Dichotomie sur le cercle**"
   ]
  },
  {
   "cell_type": "markdown",
   "metadata": {},
   "source": [
    "On considère toujours une fonction $f : [0,1]^2 \\to \\mathbb{R} \\; \\mathcal{C}^1$, et un pas $\\Delta$ entre les points.  \n",
    "L'algorithme suivant repose sur des dichotomies sur des cercles de rayon $\\Delta$:\n",
    "* On trouve un point de la ligne de niveau avec *find_seed*.\n",
    "* On trace un cercle de rayon $\\Delta$ autour du point, et on effectue une dichotomie sur le cercle afin de trouver le prochain point. La dichotomie est seulement effectuée sur une moitié du cercle, définie par la direction.\n",
    "* On recommence jusqu'à sortir du cadre $[0,1]^2$.\n",
    "\n"
   ]
  },
  {
   "cell_type": "code",
   "execution_count": 7,
   "metadata": {},
   "outputs": [],
   "source": [
    "# Une dichotomie sur une fonction : \n",
    "def dichotomie(f,c,a,b,eps = 2**(-26)):\n",
    "    def h(t):\n",
    "        return(f(t)-c)   \n",
    "    while (b-a) > eps:\n",
    "        k = (a+b)/2\n",
    "        if h(a)*h(k) < 0:\n",
    "            b = k\n",
    "        else:\n",
    "            a = k\n",
    "    return(a)\n",
    "\n",
    "\n",
    "def simple_contour_2(f, c = 0.0, delta = 0.01): \n",
    "    x,y = [],[]\n",
    "    direction = 0\n",
    "    if find_seed(f,c) != None:\n",
    "        t = find_seed(f,c)\n",
    "        x.append(0.0)\n",
    "        y.append(t)\n",
    "        t0 = 0\n",
    "        while (0<=x[-1]<=1) and (0<=y[-1]<=1) and np.pi/2 - t0 >= 2**(-26): \n",
    "        # le dernier test permet de quitter la boucle si y a pas de solution à la dichotomie : la ligne de niveau s'arrête.\n",
    "            x0 = x[-1] \n",
    "            y0 = y[-1]\n",
    "            def h(t):\n",
    "                return(f(x0+delta*np.cos(t+direction),y0+delta*np.sin(t+direction)))\n",
    "            t0 = dichotomie(h,c,-np.pi/2,np.pi/2,2**(-26))\n",
    "            direction += t0\n",
    "            x.append(x0 + delta*np.cos(direction))\n",
    "            y.append(y0 + delta*np.sin(direction))\n",
    "        return x,y\n",
    "    return [],[]"
   ]
  },
  {
   "cell_type": "code",
   "execution_count": 8,
   "metadata": {
    "scrolled": false
   },
   "outputs": [
    {
     "data": {
      "image/png": "[encoded data removed]",
      "text/plain": [
       "<matplotlib.figure.Figure at 0x19147a4cc50>"
      ]
     },
     "metadata": {
      "needs_background": "light"
     },
     "output_type": "display_data"
    }
   ],
   "source": [
    "# Test sur la fonction quadratique, sur [0,1].\n",
    "for i in range(5):\n",
    "    x_i,y_i = simple_contour_2(quad, (1/2)**i)\n",
    "    plt.plot(x_i,y_i, label = f\"c = {(1/2)**i}\")\n",
    "plt.xlim(0,1)\n",
    "plt.ylim(0,1)\n",
    "plt.xlabel('x')\n",
    "plt.ylabel('y')\n",
    "plt.legend()\n",
    "plt.show()"
   ]
  },
  {
   "cell_type": "markdown",
   "metadata": {},
   "source": [
    "$\\underline{Commentaire} :$ Le programme ne marche pas pour tout type de fonctions, puisque l'on peut imaginer des fonctions avec des lignes niveaux formant des angles aigus. On peut alors effectuer la dichotomie sur une portion plus grande du cercle - *mais jamais tout le cercle, pour ne pas revenir en arrière* - mais on pourra toujours construire des fonctions qui ne marchent pas, pour une portion donnée.  \n",
    "Cependant, pour une fonction donnée, on peut alors construire une portion de cercle qui marche.  \n",
    "  \n",
    "De plus, le pas $\\Delta$ pouvant être choisi très faible, les problèmes de rebroussement peuvent être gérés."
   ]
  },
  {
   "cell_type": "markdown",
   "metadata": {},
   "source": [
    " "
   ]
  },
  {
   "cell_type": "markdown",
   "metadata": {},
   "source": [
    "### Contour complexe :"
   ]
  },
  {
   "cell_type": "markdown",
   "metadata": {},
   "source": [
    "On suppose maintenant que $f$ n'est plus définie sur $[0,1]^2$, mais sur un rectangle borné de $\\mathbb{R}^2$.  \n",
    "On généralise les fonctions précédentes et on divise le domaine en carrés pour les appliquer."
   ]
  },
  {
   "cell_type": "markdown",
   "metadata": {},
   "source": [
    "* Les fonctions de recherche de seed des quatres côtés :"
   ]
  },
  {
   "cell_type": "code",
   "execution_count": 25,
   "metadata": {},
   "outputs": [],
   "source": [
    "def find_seed_gauche(f, c, xmin, ymin, ymax, eps = 2**(-26)):\n",
    "    def h(t):\n",
    "        return(f(xmin,t)-c)\n",
    "    if h(ymin)*h(ymax) > 0:\n",
    "        return None\n",
    "    else:\n",
    "        i,j = ymin,ymax\n",
    "        while (j-i) > eps:\n",
    "            k = (i+j) / 2\n",
    "            if h(k)*h(j) > 0:\n",
    "                j = k\n",
    "            else:\n",
    "                i = k\n",
    "    return i\n",
    "\n",
    "def find_seed_droite(f, c, xmax, ymin, ymax, eps = 2**(-26)):\n",
    "    def h(t):\n",
    "        return(f(xmax,t)-c)\n",
    "    if h(ymin)*h(ymax) > 0:\n",
    "        return None\n",
    "    else:\n",
    "        i,j = ymin,ymax\n",
    "        while (j-i) > eps:\n",
    "            k = (i+j) / 2\n",
    "            if h(k)*h(j) > 0:\n",
    "                j = k\n",
    "            else:\n",
    "                i = k\n",
    "    return i\n",
    "    \n",
    "def find_seed_bas(f, c, xmin, xmax, ymin, eps = 2**(-26)):\n",
    "    def h(t):\n",
    "        return(f(t,ymin)-c)\n",
    "    if h(xmin)*h(xmax) > 0:\n",
    "        return None\n",
    "    else:\n",
    "        i,j = xmin,xmax\n",
    "        while (j-i) > eps:\n",
    "            k = (i+j) / 2\n",
    "            if h(k)*h(j) > 0:\n",
    "                j = k\n",
    "            else:\n",
    "                i = k\n",
    "    return i\n",
    "\n",
    "def find_seed_haut(f, c, xmin, xmax, ymax, eps = 2**(-26)):\n",
    "    def h(t):\n",
    "        return(f(t,ymax)-c)\n",
    "    if h(xmin)*h(xmax) > 0:\n",
    "        return None\n",
    "    else:\n",
    "        i,j = xmin,xmax\n",
    "        while (j-i) > eps:\n",
    "            k = (i+j) / 2\n",
    "            if h(k)*h(j) > 0:\n",
    "                j = k\n",
    "            else:\n",
    "                i = k\n",
    "    return i"
   ]
  },
  {
   "cell_type": "markdown",
   "metadata": {},
   "source": [
    "Remarque : On peut éviter de coder 4 fonctions en procédant à une rotation, mais le résultat est le même."
   ]
  },
  {
   "cell_type": "markdown",
   "metadata": {},
   "source": [
    " "
   ]
  },
  {
   "cell_type": "markdown",
   "metadata": {},
   "source": [
    "**Méthode #2: Dichotomie sur cercles**\n"
   ]
  },
  {
   "cell_type": "markdown",
   "metadata": {},
   "source": [
    "* Une fonction *simple_contour_annexe* adaptée aux nouveaux contours variables, et à la recherche de seed sur 4 côtés."
   ]
  },
  {
   "cell_type": "code",
   "execution_count": 26,
   "metadata": {},
   "outputs": [],
   "source": [
    "def simple_contour_annexe(f, xmin, xmax, ymin, ymax, c, delta):\n",
    "    x,y = [],[]\n",
    "    lx,ly = [],[]\n",
    "    direction = 0\n",
    "    # Ici, une disjonction de cas sur le bord, donc 4 blocs assez similaires.\n",
    "    if find_seed_gauche(f, c, xmin, ymin, ymax) != None:\n",
    "        t = find_seed_gauche(f, c, xmin, ymin, ymax)\n",
    "        x.append(xmin)\n",
    "        y.append(t)\n",
    "        t0 = 0\n",
    "        while (xmin <= x[-1] <= xmax) and (ymin <= y[-1] <= ymax) and (np.pi/2 - t0 >= 2**(-26)): \n",
    "            # le dernier test permet de quitter la boucle si y a pas de solution à la dichotomie : la ligne de niveau s'arrête.\n",
    "            x0 = x[-1] \n",
    "            y0 = y[-1]\n",
    "            def h(t):\n",
    "                # fonction f sur le cercle autour de (x0,y0)\n",
    "                return(f(x0+delta*np.cos(t+direction),y0+delta*np.sin(t+direction)))\n",
    "            t0 = dichotomie(h,c,-np.pi/2,np.pi/2,2**(-26))\n",
    "            direction += t0\n",
    "            x.append(x0 + delta*np.cos(direction))\n",
    "            y.append(y0 + delta*np.sin(direction))\n",
    "        lx, ly = x, y\n",
    "    x,y = [],[]\n",
    "    direction = np.pi\n",
    "    if find_seed_droite(f, c, xmax, ymin, ymax) != None:\n",
    "        t = find_seed_droite(f, c, xmax, ymin, ymax)\n",
    "        x.append(xmax)\n",
    "        y.append(t)\n",
    "        t0 = 0\n",
    "        while (xmin <= x[-1] <= xmax) and (ymin <= y[-1] <= ymax) and (np.pi/2 - t0 >= 2**(-26)): \n",
    "            x0 = x[-1]\n",
    "            y0 = y[-1]\n",
    "            def h(t):\n",
    "                return(f(x0+delta*np.cos(t+direction),y0+delta*np.sin(t+direction)))\n",
    "            t0 = dichotomie(h,c,-np.pi/2,np.pi/2,2**(-26))\n",
    "            direction += t0\n",
    "            x.append(x0 + delta*np.cos(direction))\n",
    "            y.append(y0 + delta*np.sin(direction))\n",
    "        lx, ly= lx + x, ly + y\n",
    "    x,y = [],[]\n",
    "    direction = np.pi/2\n",
    "    if find_seed_bas(f, c, xmin, xmax, ymin) != None:\n",
    "        t = find_seed_bas(f, c, xmin, xmax, ymin)\n",
    "        x.append(t)\n",
    "        y.append(ymin)\n",
    "        t0 = 0\n",
    "        while (xmin <= x[-1] <= xmax) and (ymin <= y[-1] <= ymax) and (np.pi/2 - t0 >= 2**(-26)): \n",
    "            x0 = x[-1] \n",
    "            y0 = y[-1]\n",
    "            def h(t):\n",
    "                return(f(x0+delta*np.cos(t+direction),y0+delta*np.sin(t+direction)))\n",
    "            t0 = dichotomie(h,c,-np.pi/2,np.pi/2,2**(-26))\n",
    "            direction += t0\n",
    "            x.append(x0 + delta*np.cos(direction))\n",
    "            y.append(y0 + delta*np.sin(direction))\n",
    "        lx, ly = lx + x, ly + y\n",
    "    x,y = [],[]\n",
    "    direction = -np.pi/2\n",
    "    if find_seed_haut(f, c, xmin, xmax, ymax) != None:\n",
    "        t = find_seed_haut(f, c, xmin, xmax, ymax)\n",
    "        x.append(t)\n",
    "        y.append(ymax)\n",
    "        t0 = 0\n",
    "        while (xmin <= x[-1] <= xmax) and (ymin <= y[-1] <= ymax) and (np.pi/2 - t0 >= 2**(-26)):\n",
    "            x0 = x[-1]\n",
    "            y0 = y[-1]\n",
    "            def h(t):\n",
    "                return(f(x0+delta*np.cos(t+direction),y0+delta*np.sin(t+direction)))\n",
    "            t0 = dichotomie(h,c,-np.pi/2,np.pi/2,2**(-26))\n",
    "            direction += t0\n",
    "            x.append(x0 + delta*np.cos(direction))\n",
    "            y.append(y0 + delta*np.sin(direction))\n",
    "        lx, ly = lx + x, ly + y\n",
    "    return (lx,ly)"
   ]
  },
  {
   "cell_type": "markdown",
   "metadata": {},
   "source": [
    "* La fonction *contour* finale :"
   ]
  },
  {
   "cell_type": "code",
   "execution_count": 27,
   "metadata": {},
   "outputs": [],
   "source": [
    "def contour(f, xc = [0.0,1.0], yc = [0.0,1.0], c = 0.0, delta = 0.01):\n",
    "    xs, ys = [], []\n",
    "    n, m = len(xc), len(yc)\n",
    "    for i in range(n-1):\n",
    "        for j in range(m-1):\n",
    "            xmin = xc[i]\n",
    "            xmax = xc[i+1]\n",
    "            ymin = yc[j]\n",
    "            ymax = yc[j+1]\n",
    "            lx,ly = simple_contour_annexe(f,xmin,xmax,ymin,ymax,c,delta)\n",
    "            xs.append(lx)\n",
    "            ys.append(ly)\n",
    "    for x,y in zip(xs,ys):\n",
    "        plt.plot(x,y)"
   ]
  },
  {
   "cell_type": "code",
   "execution_count": 28,
   "metadata": {
    "scrolled": false
   },
   "outputs": [
    {
     "data": {
      "image/png": "[encoded data removed]",
      "text/plain": [
       "<matplotlib.figure.Figure at 0x191481787f0>"
      ]
     },
     "metadata": {
      "needs_background": "light"
     },
     "output_type": "display_data"
    }
   ],
   "source": [
    "# Test avec la fonction l(x,y)\n",
    "\n",
    "xc = [-2.0,-1.0,0.0,1.0,2.0,3.0]\n",
    "yc = [-1.0,0.0,1.0,2.0]\n",
    "\n",
    "contour(l,xc,yc,0.0)\n",
    "contour(l,xc,yc,0.5)\n",
    "contour(l,xc,yc,1.0)\n",
    "contour(l,xc,yc,1.5)  \n",
    "contour(l,xc,yc,-0.5)\n",
    "contour(l,xc,yc,-1.0)\n",
    "contour(l,xc,yc,-1.5)"
   ]
  },
  {
   "cell_type": "markdown",
   "metadata": {},
   "source": [
    "Le résultat est bien celui voulu, avec une complexité relativement faible.  \n",
    "\\+ commentaire /comparaison"
   ]
  },
  {
   "cell_type": "markdown",
   "metadata": {},
   "source": [
    "**Méthode #1: Gradient**"
   ]
  },
  {
   "cell_type": "markdown",
   "metadata": {},
   "source": [
    " "
   ]
  },
  {
   "cell_type": "markdown",
   "metadata": {},
   "source": [
    "* A nouveau, une fonction *simple_contour_annexe_2* avec la méthode du gradient : "
   ]
  },
  {
   "cell_type": "code",
   "execution_count": 29,
   "metadata": {},
   "outputs": [],
   "source": [
    "#Distance pour comparer\n",
    "def d(x,y,z,t):\n",
    "    return (x-z)**2 + (y-t)**2\n",
    "\n",
    "\n",
    "def simple_contour_annexe_2(f, xmin, xmax, ymin, ymax, c, delta):\n",
    "    lx, ly= [], []\n",
    "    x,y = [],[]\n",
    "    # Disjonction de cas sur les quatres bords.\n",
    "    if find_seed_gauche(f, c, xmin, ymin, ymax) != None:\n",
    "        t = find_seed_gauche(f, c, xmin, ymin, ymax)\n",
    "        x.append(xmin)\n",
    "        y.append(t)\n",
    "        [a,b] = grad(f,xmin,t)\n",
    "        while (xmin <= x[-1] <= xmax) and (ymin <= y[-1] <= ymax):\n",
    "            x_0,y_0 = x[-1],y[-1]\n",
    "            if b !=0:\n",
    "                if len(x)>=2:\n",
    "                    xp, yp = x[-2],y[-2]\n",
    "                    x1,x2 = x_0 + delta/np.sqrt((1 + (a/b)**2)), x_0 - delta/np.sqrt((1 + (a/b)**2))\n",
    "                    y1,y2 = -a/b*(x1 - x_0) + y_0, -a/b*(x2 - x_0) + y_0\n",
    "                    if d(x1,y1,xp,yp) >= d(x2,y2,xp,yp):\n",
    "                        x.append(x1)\n",
    "                        y.append(y1)\n",
    "                    else:\n",
    "                        x.append(x2)\n",
    "                        y.append(y2)\n",
    "                else:\n",
    "                    x.append(x_0 + delta/np.sqrt((1 + (a/b)**2)))\n",
    "                    y.append(-a/b*(x[-1] - x_0) + y_0)\n",
    "            else:\n",
    "                x.append(x_0)\n",
    "                y.append(y_0 + delta)\n",
    "            [a,b] = grad(f,x[-1],y[-1])\n",
    "        lx, ly = x, y\n",
    "    x, y = [],[]\n",
    "    if find_seed_droite(f, c, xmax, ymin, ymax) != None:\n",
    "        t = find_seed_droite(f, c, xmax, ymin, ymax)\n",
    "        x.append(xmax)\n",
    "        y.append(t)\n",
    "        [a,b] = grad(f,xmax,t)\n",
    "        while (xmin <= x[-1] <= xmax) and (ymin <= y[-1] <= ymax):\n",
    "            x_0,y_0 = x[-1],y[-1]\n",
    "            if b !=0:\n",
    "                if len(x)>=2:\n",
    "                    xp, yp = x[-2],y[-2]\n",
    "                    x1,x2 = x_0 + delta/np.sqrt((1 + (a/b)**2)), x_0 - delta/np.sqrt((1 + (a/b)**2))\n",
    "                    y1,y2 = -a/b*(x1 - x_0) + y_0, -a/b*(x2 - x_0) + y_0\n",
    "                    if d(x1,y1,xp,yp) >= d(x2,y2,xp,yp):\n",
    "                        x.append(x1)\n",
    "                        y.append(y1)\n",
    "                    else:\n",
    "                        x.append(x2)\n",
    "                        y.append(y2)\n",
    "                else:\n",
    "                    x.append(x_0 + delta/np.sqrt((1 + (a/b)**2)))\n",
    "                    y.append(-a/b*(x[-1] - x_0) + y_0)\n",
    "            else:\n",
    "                x.append(x_0)\n",
    "                y.append(y_0 + delta)\n",
    "            [a,b] = grad(f,x[-1],y[-1])\n",
    "        lx, ly = lx + x, ly + y\n",
    "    x, y = [],[]\n",
    "    if find_seed_bas(f, c, xmin, xmax, ymin) != None:\n",
    "        t = find_seed_bas(f, c, xmin, xmax, ymin)\n",
    "        x.append(t)\n",
    "        y.append(ymin)\n",
    "        [a,b] = grad(f,t,ymin)\n",
    "        while (xmin <= x[-1] <= xmax) and (ymin <= y[-1] <= ymax):\n",
    "            x_0,y_0 = x[-1],y[-1]\n",
    "            if b !=0:\n",
    "                if len(x)>=2:\n",
    "                    xp, yp = x[-2],y[-2]\n",
    "                    x1,x2 = x_0 + delta/np.sqrt((1 + (a/b)**2)), x_0 - delta/np.sqrt((1 + (a/b)**2))\n",
    "                    y1,y2 = -a/b*(x1 - x_0) + y_0, -a/b*(x2 - x_0) + y_0\n",
    "                    if d(x1,y1,xp,yp) >= d(x2,y2,xp,yp):\n",
    "                        x.append(x1)\n",
    "                        y.append(y1)\n",
    "                    else:\n",
    "                        x.append(x2)\n",
    "                        y.append(y2)\n",
    "                else:\n",
    "                    x.append(x_0 + delta/np.sqrt((1 + (a/b)**2)))\n",
    "                    y.append(-a/b*(x[-1] - x_0) + y_0)\n",
    "            else:\n",
    "                x.append(x_0)\n",
    "                y.append(y_0 + delta)\n",
    "            [a,b] = grad(f,x[-1],y[-1])\n",
    "        lx, ly = lx + x, ly + y\n",
    "    x, y = [],[]\n",
    "    if find_seed_haut(f, c, xmin, xmax, ymax) != None:\n",
    "        t = find_seed_haut(f, c, xmin, xmax, ymax)\n",
    "        x.append(t)\n",
    "        y.append(ymax)\n",
    "        [a,b] = grad(f,t,ymax)\n",
    "        while (xmin <= x[-1] <= xmax) and (ymin <= y[-1] <= ymax):\n",
    "            x_0,y_0 = x[-1],y[-1]\n",
    "            if b !=0:\n",
    "                if len(x)>=2:\n",
    "                    xp, yp = x[-2],y[-2]\n",
    "                    x1,x2 = x_0 + delta/np.sqrt((1 + (a/b)**2)), x_0 - delta/np.sqrt((1 + (a/b)**2))\n",
    "                    y1,y2 = -a/b*(x1 - x_0) + y_0, -a/b*(x2 - x_0) + y_0\n",
    "                    if d(x1,y1,xp,yp) >= d(x2,y2,xp,yp):\n",
    "                        x.append(x1)\n",
    "                        y.append(y1)\n",
    "                    else:\n",
    "                        x.append(x2)\n",
    "                        y.append(y2)\n",
    "                else:\n",
    "                    x.append(x_0 + delta/np.sqrt((1 + (a/b)**2)))\n",
    "                    y.append(-a/b*(x[-1] - x_0) + y_0)\n",
    "            else:\n",
    "                x.append(x_0)\n",
    "                y.append(y_0 + delta)\n",
    "            [a,b] = grad(f,x[-1],y[-1])\n",
    "        lx, ly = lx + x, ly + y \n",
    "        \n",
    "    return (lx,ly)"
   ]
  },
  {
   "cell_type": "markdown",
   "metadata": {},
   "source": [
    "* La fonction *contour* finale : "
   ]
  },
  {
   "cell_type": "code",
   "execution_count": 30,
   "metadata": {},
   "outputs": [],
   "source": [
    "def contour_2(f, xc = [0.0,1.0], yc = [0.0,1.0], c = 0.0, delta = 0.01):\n",
    "    xs, ys = [], []\n",
    "    n, m = len(xc), len(yc)\n",
    "    for i in range(n-1):\n",
    "        for j in range(m-1):\n",
    "            xmin = xc[i]\n",
    "            xmax = xc[i+1]\n",
    "            ymin = yc[j]\n",
    "            ymax = yc[j+1]\n",
    "            lx, ly = simple_contour_annexe_2(f,xmin,xmax,ymin,ymax,c,delta)\n",
    "            xs.append(lx)\n",
    "            ys.append(ly)\n",
    "    for x,y in zip(xs,ys):\n",
    "        plt.plot(x,y,'.',color='r', markersize=2)"
   ]
  },
  {
   "cell_type": "code",
   "execution_count": 33,
   "metadata": {},
   "outputs": [
    {
     "data": {
      "image/png": "[encoded data removed]",
      "text/plain": [
       "<matplotlib.figure.Figure at 0x19147fb1780>"
      ]
     },
     "metadata": {
      "needs_background": "light"
     },
     "output_type": "display_data"
    }
   ],
   "source": [
    "# Test avec la fonction l(x,y)\n",
    "\n",
    "xc = [-2.0,-1.0,0.0,1.0,2.0,3.0]\n",
    "yc = [-1.0,0.0,1.0,2.0]\n",
    "\n",
    "contour_2(l,xc,yc,0.0)\n",
    "contour_2(l,xc,yc,0.5)\n",
    "contour_2(l,xc,yc,1.0)\n",
    "contour_2(l,xc,yc,1.5)  \n",
    "contour_2(l,xc,yc,-0.5)\n",
    "contour_2(l,xc,yc,-1.0)\n",
    "contour_2(l,xc,yc,-1.5)"
   ]
  },
  {
   "cell_type": "code",
   "execution_count": null,
   "metadata": {},
   "outputs": [],
   "source": []
  }
 ],
 "metadata": {
  "kernelspec": {
   "display_name": "Python 3",
   "language": "python",
   "name": "python3"
  },
  "language_info": {
   "codemirror_mode": {
    "name": "ipython",
    "version": 3
   },
   "file_extension": ".py",
   "mimetype": "text/x-python",
   "name": "python",
   "nbconvert_exporter": "python",
   "pygments_lexer": "ipython3",
   "version": "3.6.1"
  }
 },
 "nbformat": 4,
 "nbformat_minor": 2
}
